{
 "cells": [
  {
   "cell_type": "markdown",
   "source": [
    "Bank Authentication Data Set](https://archive.ics.uci.edu/ml/datasets/banknote+authentication) from the UCI repository.\r\n",
    "\r\n",
    "The data consists of 5 columns:\r\n",
    "\r\n",
    "* variance of Wavelet Transformed image (continuous)\r\n",
    "* skewness of Wavelet Transformed image (continuous)\r\n",
    "* curtosis of Wavelet Transformed image (continuous)\r\n",
    "* entropy of image (continuous)\r\n",
    "* class (integer)"
   ],
   "metadata": {}
  },
  {
   "cell_type": "code",
   "execution_count": null,
   "source": [
    "#"
   ],
   "outputs": [],
   "metadata": {}
  }
 ],
 "metadata": {
  "orig_nbformat": 4,
  "language_info": {
   "name": "python"
  }
 },
 "nbformat": 4,
 "nbformat_minor": 2
}