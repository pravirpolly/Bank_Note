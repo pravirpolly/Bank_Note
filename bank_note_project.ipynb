{
 "cells": [
  {
   "cell_type": "markdown",
   "source": [
    "Bank Authentication Data Set](https://archive.ics.uci.edu/ml/datasets/banknote+authentication) from the UCI repository.\r\n",
    "\r\n",
    "The data consists of 5 columns:\r\n",
    "\r\n",
    "* variance of Wavelet Transformed image (continuous)\r\n",
    "* skewness of Wavelet Transformed image (continuous)\r\n",
    "* curtosis of Wavelet Transformed image (continuous)\r\n",
    "* entropy of image (continuous)\r\n",
    "* class (integer)"
   ],
   "metadata": {}
  },
  {
   "cell_type": "code",
   "execution_count": 2,
   "source": [
    "import pandas as pd\r\n",
    "import numpy as np"
   ],
   "outputs": [],
   "metadata": {}
  },
  {
   "cell_type": "code",
   "execution_count": 3,
   "source": [
    "#data import\r\n",
    "df = pd.read_csv(r'D:\\\\Python files\\\\Udemy\\\\Python for data science\\\\Py-DS-ML-Bootcamp-master\\\\Study Projects\\\\Bank_Note\\\\bank_note_data.csv')"
   ],
   "outputs": [],
   "metadata": {}
  },
  {
   "cell_type": "code",
   "execution_count": 16,
   "source": [
    "df.head()"
   ],
   "outputs": [
    {
     "output_type": "execute_result",
     "data": {
      "text/html": [
       "<div>\n",
       "<style scoped>\n",
       "    .dataframe tbody tr th:only-of-type {\n",
       "        vertical-align: middle;\n",
       "    }\n",
       "\n",
       "    .dataframe tbody tr th {\n",
       "        vertical-align: top;\n",
       "    }\n",
       "\n",
       "    .dataframe thead th {\n",
       "        text-align: right;\n",
       "    }\n",
       "</style>\n",
       "<table border=\"1\" class=\"dataframe\">\n",
       "  <thead>\n",
       "    <tr style=\"text-align: right;\">\n",
       "      <th></th>\n",
       "      <th>Image.Var</th>\n",
       "      <th>Image.Skew</th>\n",
       "      <th>Image.Curt</th>\n",
       "      <th>Entropy</th>\n",
       "      <th>Class</th>\n",
       "    </tr>\n",
       "  </thead>\n",
       "  <tbody>\n",
       "    <tr>\n",
       "      <th>0</th>\n",
       "      <td>3.62160</td>\n",
       "      <td>8.6661</td>\n",
       "      <td>-2.8073</td>\n",
       "      <td>-0.44699</td>\n",
       "      <td>0</td>\n",
       "    </tr>\n",
       "    <tr>\n",
       "      <th>1</th>\n",
       "      <td>4.54590</td>\n",
       "      <td>8.1674</td>\n",
       "      <td>-2.4586</td>\n",
       "      <td>-1.46210</td>\n",
       "      <td>0</td>\n",
       "    </tr>\n",
       "    <tr>\n",
       "      <th>2</th>\n",
       "      <td>3.86600</td>\n",
       "      <td>-2.6383</td>\n",
       "      <td>1.9242</td>\n",
       "      <td>0.10645</td>\n",
       "      <td>0</td>\n",
       "    </tr>\n",
       "    <tr>\n",
       "      <th>3</th>\n",
       "      <td>3.45660</td>\n",
       "      <td>9.5228</td>\n",
       "      <td>-4.0112</td>\n",
       "      <td>-3.59440</td>\n",
       "      <td>0</td>\n",
       "    </tr>\n",
       "    <tr>\n",
       "      <th>4</th>\n",
       "      <td>0.32924</td>\n",
       "      <td>-4.4552</td>\n",
       "      <td>4.5718</td>\n",
       "      <td>-0.98880</td>\n",
       "      <td>0</td>\n",
       "    </tr>\n",
       "  </tbody>\n",
       "</table>\n",
       "</div>"
      ],
      "text/plain": [
       "   Image.Var  Image.Skew  Image.Curt  Entropy  Class\n",
       "0    3.62160      8.6661     -2.8073 -0.44699      0\n",
       "1    4.54590      8.1674     -2.4586 -1.46210      0\n",
       "2    3.86600     -2.6383      1.9242  0.10645      0\n",
       "3    3.45660      9.5228     -4.0112 -3.59440      0\n",
       "4    0.32924     -4.4552      4.5718 -0.98880      0"
      ]
     },
     "metadata": {},
     "execution_count": 16
    }
   ],
   "metadata": {}
  },
  {
   "cell_type": "code",
   "execution_count": 4,
   "source": [
    "df.info()"
   ],
   "outputs": [
    {
     "output_type": "stream",
     "name": "stdout",
     "text": [
      "<class 'pandas.core.frame.DataFrame'>\n",
      "RangeIndex: 1372 entries, 0 to 1371\n",
      "Data columns (total 5 columns):\n",
      " #   Column      Non-Null Count  Dtype  \n",
      "---  ------      --------------  -----  \n",
      " 0   Image.Var   1372 non-null   float64\n",
      " 1   Image.Skew  1372 non-null   float64\n",
      " 2   Image.Curt  1372 non-null   float64\n",
      " 3   Entropy     1372 non-null   float64\n",
      " 4   Class       1372 non-null   int64  \n",
      "dtypes: float64(4), int64(1)\n",
      "memory usage: 53.7 KB\n"
     ]
    }
   ],
   "metadata": {}
  },
  {
   "cell_type": "code",
   "execution_count": 5,
   "source": [
    "df.describe().transpose()"
   ],
   "outputs": [
    {
     "output_type": "execute_result",
     "data": {
      "text/html": [
       "<div>\n",
       "<style scoped>\n",
       "    .dataframe tbody tr th:only-of-type {\n",
       "        vertical-align: middle;\n",
       "    }\n",
       "\n",
       "    .dataframe tbody tr th {\n",
       "        vertical-align: top;\n",
       "    }\n",
       "\n",
       "    .dataframe thead th {\n",
       "        text-align: right;\n",
       "    }\n",
       "</style>\n",
       "<table border=\"1\" class=\"dataframe\">\n",
       "  <thead>\n",
       "    <tr style=\"text-align: right;\">\n",
       "      <th></th>\n",
       "      <th>count</th>\n",
       "      <th>mean</th>\n",
       "      <th>std</th>\n",
       "      <th>min</th>\n",
       "      <th>25%</th>\n",
       "      <th>50%</th>\n",
       "      <th>75%</th>\n",
       "      <th>max</th>\n",
       "    </tr>\n",
       "  </thead>\n",
       "  <tbody>\n",
       "    <tr>\n",
       "      <th>Image.Var</th>\n",
       "      <td>1372.0</td>\n",
       "      <td>0.433735</td>\n",
       "      <td>2.842763</td>\n",
       "      <td>-7.0421</td>\n",
       "      <td>-1.773000</td>\n",
       "      <td>0.49618</td>\n",
       "      <td>2.821475</td>\n",
       "      <td>6.8248</td>\n",
       "    </tr>\n",
       "    <tr>\n",
       "      <th>Image.Skew</th>\n",
       "      <td>1372.0</td>\n",
       "      <td>1.922353</td>\n",
       "      <td>5.869047</td>\n",
       "      <td>-13.7731</td>\n",
       "      <td>-1.708200</td>\n",
       "      <td>2.31965</td>\n",
       "      <td>6.814625</td>\n",
       "      <td>12.9516</td>\n",
       "    </tr>\n",
       "    <tr>\n",
       "      <th>Image.Curt</th>\n",
       "      <td>1372.0</td>\n",
       "      <td>1.397627</td>\n",
       "      <td>4.310030</td>\n",
       "      <td>-5.2861</td>\n",
       "      <td>-1.574975</td>\n",
       "      <td>0.61663</td>\n",
       "      <td>3.179250</td>\n",
       "      <td>17.9274</td>\n",
       "    </tr>\n",
       "    <tr>\n",
       "      <th>Entropy</th>\n",
       "      <td>1372.0</td>\n",
       "      <td>-1.191657</td>\n",
       "      <td>2.101013</td>\n",
       "      <td>-8.5482</td>\n",
       "      <td>-2.413450</td>\n",
       "      <td>-0.58665</td>\n",
       "      <td>0.394810</td>\n",
       "      <td>2.4495</td>\n",
       "    </tr>\n",
       "    <tr>\n",
       "      <th>Class</th>\n",
       "      <td>1372.0</td>\n",
       "      <td>0.444606</td>\n",
       "      <td>0.497103</td>\n",
       "      <td>0.0000</td>\n",
       "      <td>0.000000</td>\n",
       "      <td>0.00000</td>\n",
       "      <td>1.000000</td>\n",
       "      <td>1.0000</td>\n",
       "    </tr>\n",
       "  </tbody>\n",
       "</table>\n",
       "</div>"
      ],
      "text/plain": [
       "             count      mean       std      min       25%      50%       75%  \\\n",
       "Image.Var   1372.0  0.433735  2.842763  -7.0421 -1.773000  0.49618  2.821475   \n",
       "Image.Skew  1372.0  1.922353  5.869047 -13.7731 -1.708200  2.31965  6.814625   \n",
       "Image.Curt  1372.0  1.397627  4.310030  -5.2861 -1.574975  0.61663  3.179250   \n",
       "Entropy     1372.0 -1.191657  2.101013  -8.5482 -2.413450 -0.58665  0.394810   \n",
       "Class       1372.0  0.444606  0.497103   0.0000  0.000000  0.00000  1.000000   \n",
       "\n",
       "                max  \n",
       "Image.Var    6.8248  \n",
       "Image.Skew  12.9516  \n",
       "Image.Curt  17.9274  \n",
       "Entropy      2.4495  \n",
       "Class        1.0000  "
      ]
     },
     "metadata": {},
     "execution_count": 5
    }
   ],
   "metadata": {}
  },
  {
   "cell_type": "code",
   "execution_count": 6,
   "source": [
    "import seaborn as sns"
   ],
   "outputs": [],
   "metadata": {}
  },
  {
   "cell_type": "code",
   "execution_count": 9,
   "source": [
    "sns.countplot(x='Class', data=df)"
   ],
   "outputs": [
    {
     "output_type": "execute_result",
     "data": {
      "text/plain": [
       "<AxesSubplot:xlabel='Class', ylabel='count'>"
      ]
     },
     "metadata": {},
     "execution_count": 9
    },
    {
     "output_type": "display_data",
     "data": {
      "image/png": "[encoded data removed]",
      "text/plain": [
       "<Figure size 432x288 with 1 Axes>"
      ]
     },
     "metadata": {
      "needs_background": "light"
     }
    }
   ],
   "metadata": {}
  },
  {
   "cell_type": "code",
   "execution_count": 10,
   "source": [
    "# to plot corr of 'benign_0__mal_1'\r\n",
    "df.corr()['Class'][:-1].sort_values().plot(kind='bar')\r\n",
    "# [:,-1] to drop the last value\r\n",
    "# plot(kind='bar') to plot a graph"
   ],
   "outputs": [
    {
     "output_type": "execute_result",
     "data": {
      "text/plain": [
       "<AxesSubplot:>"
      ]
     },
     "metadata": {},
     "execution_count": 10
    },
    {
     "output_type": "display_data",
     "data": {
      "image/png": "[encoded data removed]",
      "text/plain": [
       "<Figure size 432x288 with 1 Axes>"
      ]
     },
     "metadata": {
      "needs_background": "light"
     }
    }
   ],
   "metadata": {}
  },
  {
   "cell_type": "code",
   "execution_count": 11,
   "source": [
    "import matplotlib.pyplot as plt"
   ],
   "outputs": [],
   "metadata": {}
  },
  {
   "cell_type": "code",
   "execution_count": 12,
   "source": [
    "plt.figure(figsize=(10,10))\r\n",
    "sns.heatmap(df.corr())"
   ],
   "outputs": [
    {
     "output_type": "execute_result",
     "data": {
      "text/plain": [
       "<AxesSubplot:>"
      ]
     },
     "metadata": {},
     "execution_count": 12
    },
    {
     "output_type": "display_data",
     "data": {
      "image/png": "[encoded data removed]",
      "text/plain": [
       "<Figure size 720x720 with 2 Axes>"
      ]
     },
     "metadata": {
      "needs_background": "light"
     }
    }
   ],
   "metadata": {}
  },
  {
   "cell_type": "code",
   "execution_count": 13,
   "source": [
    "X = df.drop('Class', axis=1).values\r\n",
    "y = df['Class'].values"
   ],
   "outputs": [],
   "metadata": {}
  },
  {
   "cell_type": "code",
   "execution_count": 14,
   "source": [
    "from sklearn.model_selection import train_test_split\r\n",
    "X_train, X_test, y_train, y_test = train_test_split(X, y, test_size=0.25, random_state=101)"
   ],
   "outputs": [],
   "metadata": {}
  },
  {
   "cell_type": "code",
   "execution_count": 15,
   "source": [
    "from sklearn.preprocessing import MinMaxScaler\r\n",
    "scaler = MinMaxScaler()"
   ],
   "outputs": [],
   "metadata": {}
  },
  {
   "cell_type": "code",
   "execution_count": 17,
   "source": [
    "X_train = scaler.fit_transform(X_train)\r\n",
    "X_test = scaler.transform(X_test)"
   ],
   "outputs": [],
   "metadata": {}
  },
  {
   "cell_type": "code",
   "execution_count": 19,
   "source": [
    "X_train"
   ],
   "outputs": [
    {
     "output_type": "execute_result",
     "data": {
      "text/plain": [
       "array([[0.71674275, 0.54637649, 0.32564568, 0.94697073],\n",
       "       [0.63581622, 0.27693533, 0.57835497, 0.69559271],\n",
       "       [0.5354196 , 0.77670328, 0.30506669, 0.72157724],\n",
       "       ...,\n",
       "       [0.79118621, 0.40966597, 0.32232079, 0.80529292],\n",
       "       [0.39438519, 0.55980576, 0.19617227, 0.70100112],\n",
       "       [0.52241381, 0.5920508 , 0.08532173, 0.72110714]])"
      ]
     },
     "metadata": {},
     "execution_count": 19
    }
   ],
   "metadata": {}
  },
  {
   "cell_type": "code",
   "execution_count": 20,
   "source": [
    "X_test"
   ],
   "outputs": [
    {
     "output_type": "execute_result",
     "data": {
      "text/plain": [
       "array([[0.33901593, 0.98672618, 0.25725159, 0.08770925],\n",
       "       [0.87149976, 0.49968721, 0.24864223, 0.87783809],\n",
       "       [0.36313091, 0.26615931, 0.61570938, 0.78636306],\n",
       "       ...,\n",
       "       [0.39128428, 0.55020243, 0.57890697, 0.83257136],\n",
       "       [0.63911905, 0.77459411, 0.22732155, 0.81317094],\n",
       "       [0.68975762, 0.60407572, 0.34434444, 0.84950308]])"
      ]
     },
     "metadata": {},
     "execution_count": 20
    }
   ],
   "metadata": {}
  }
 ],
 "metadata": {
  "orig_nbformat": 4,
  "language_info": {
   "name": "python",
   "version": "3.9.5",
   "mimetype": "text/x-python",
   "codemirror_mode": {
    "name": "ipython",
    "version": 3
   },
   "pygments_lexer": "ipython3",
   "nbconvert_exporter": "python",
   "file_extension": ".py"
  },
  "kernelspec": {
   "name": "python3",
   "display_name": "Python 3.9.5 64-bit"
  },
  "interpreter": {
   "hash": "ee5cc6fef2d70a7e71ee3826687cbd150f18158e0b1eef11d4f4f92bb920e304"
  }
 },
 "nbformat": 4,
 "nbformat_minor": 2
}